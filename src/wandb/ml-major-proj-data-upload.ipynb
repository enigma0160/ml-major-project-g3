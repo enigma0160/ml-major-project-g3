{
 "cells": [
  {
   "cell_type": "markdown",
   "id": "rising-medicine",
   "metadata": {
    "papermill": {
     "duration": 0.006837,
     "end_time": "2021-04-16T18:22:11.476029",
     "exception": false,
     "start_time": "2021-04-16T18:22:11.469192",
     "status": "completed"
    },
    "tags": []
   },
   "source": [
    "# Intro\n",
    "\n",
    "This notebook fetches the raw data from 2 sources and logs them for later use. The 2 sources are:\n",
    "1. [Our World in Data COVID19 dataset](https://ourworldindata.org/coronavirus-source-data). [Direct link](https://github.com/owid/covid-19-data/raw/master/public/data/owid-covid-data.csv) to the csv. This dataset provides a large amount of data that we need, including but not limited to cases, deaths, ICU beds, vaccinations etc. The codebook explaining the variables is [here](https://github.com/owid/covid-19-data/raw/master/public/data/owid-covid-codebook.csv) and is avaible as a csv.\n",
    "\n",
    "2. [Oxford COVID-19 Government Response Tracker (OxCGRT)](https://www.bsg.ox.ac.uk/research/research-projects/covid-19-government-response-tracker) [Direct link](https://github.com/OxCGRT/covid-policy-tracker/raw/master/data/OxCGRT_latest.csv) to the csv. The codebook explaining the variables is [here](https://github.com/OxCGRT/covid-policy-tracker/raw/master/documentation/codebook.md), it is a Markdown file which contains a table that explains the variables.\n",
    "\n",
    "**Both these datasets and associated codebooks were fetched on 16/04/21 at 11:52 PM**"
   ]
  },
  {
   "cell_type": "code",
   "execution_count": 1,
   "id": "appreciated-tracker",
   "metadata": {
    "execution": {
     "iopub.execute_input": "2021-04-16T18:22:11.492636Z",
     "iopub.status.busy": "2021-04-16T18:22:11.491534Z",
     "iopub.status.idle": "2021-04-16T18:22:12.408274Z",
     "shell.execute_reply": "2021-04-16T18:22:12.407588Z"
    },
    "papermill": {
     "duration": 0.926286,
     "end_time": "2021-04-16T18:22:12.408433",
     "exception": false,
     "start_time": "2021-04-16T18:22:11.482147",
     "status": "completed"
    },
    "tags": []
   },
   "outputs": [],
   "source": [
    "import wandb\n",
    "import os"
   ]
  },
  {
   "cell_type": "code",
   "execution_count": 2,
   "id": "bizarre-difference",
   "metadata": {
    "execution": {
     "iopub.execute_input": "2021-04-16T18:22:12.427158Z",
     "iopub.status.busy": "2021-04-16T18:22:12.426553Z",
     "iopub.status.idle": "2021-04-16T18:22:12.815561Z",
     "shell.execute_reply": "2021-04-16T18:22:12.815002Z"
    },
    "papermill": {
     "duration": 0.401066,
     "end_time": "2021-04-16T18:22:12.815708",
     "exception": false,
     "start_time": "2021-04-16T18:22:12.414642",
     "status": "completed"
    },
    "tags": []
   },
   "outputs": [],
   "source": [
    "from kaggle_secrets import UserSecretsClient\n",
    "user_secrets = UserSecretsClient()\n",
    "secret_value_0 = user_secrets.get_secret(\"WANDB_API_KEY\")"
   ]
  },
  {
   "cell_type": "code",
   "execution_count": 3,
   "id": "insured-conjunction",
   "metadata": {
    "execution": {
     "iopub.execute_input": "2021-04-16T18:22:12.833107Z",
     "iopub.status.busy": "2021-04-16T18:22:12.832499Z",
     "iopub.status.idle": "2021-04-16T18:22:12.835207Z",
     "shell.execute_reply": "2021-04-16T18:22:12.835674Z"
    },
    "papermill": {
     "duration": 0.013867,
     "end_time": "2021-04-16T18:22:12.835842",
     "exception": false,
     "start_time": "2021-04-16T18:22:12.821975",
     "status": "completed"
    },
    "tags": []
   },
   "outputs": [],
   "source": [
    "# setting the wandb API from Kaggle secrets to avoid manual login\n",
    "os.environ[\"WANDB_API_KEY\"] = secret_value_0\n",
    "\n",
    "# uncomment below line for dry run of wandb\n",
    "#os.environ[\"WANDB_MODE\"] = 'dryrun'"
   ]
  },
  {
   "cell_type": "code",
   "execution_count": 4,
   "id": "comparable-dylan",
   "metadata": {
    "_cell_guid": "b1076dfc-b9ad-4769-8c92-a6c4dae69d19",
    "_uuid": "8f2839f25d086af736a60e9eeb907d3b93b6e0e5",
    "execution": {
     "iopub.execute_input": "2021-04-16T18:22:12.852224Z",
     "iopub.status.busy": "2021-04-16T18:22:12.851580Z",
     "iopub.status.idle": "2021-04-16T18:22:19.954512Z",
     "shell.execute_reply": "2021-04-16T18:22:19.955165Z"
    },
    "papermill": {
     "duration": 7.112842,
     "end_time": "2021-04-16T18:22:19.955337",
     "exception": false,
     "start_time": "2021-04-16T18:22:12.842495",
     "status": "completed"
    },
    "tags": []
   },
   "outputs": [],
   "source": [
    "%%capture\n",
    "!wget -q https://github.com/owid/covid-19-data/raw/master/public/data/owid-covid-data.csv\n",
    "!wget -q https://github.com/owid/covid-19-data/raw/master/public/data/owid-covid-codebook.csv\n",
    "!wget -q https://github.com/OxCGRT/covid-policy-tracker/raw/master/data/OxCGRT_latest.csv\n",
    "!wget -q https://github.com/OxCGRT/covid-policy-tracker/raw/master/documentation/codebook.md"
   ]
  },
  {
   "cell_type": "code",
   "execution_count": 5,
   "id": "regulation-science",
   "metadata": {
    "execution": {
     "iopub.execute_input": "2021-04-16T18:22:19.972426Z",
     "iopub.status.busy": "2021-04-16T18:22:19.971823Z",
     "iopub.status.idle": "2021-04-16T18:22:35.814791Z",
     "shell.execute_reply": "2021-04-16T18:22:35.815336Z"
    },
    "papermill": {
     "duration": 15.853173,
     "end_time": "2021-04-16T18:22:35.815580",
     "exception": false,
     "start_time": "2021-04-16T18:22:19.962407",
     "status": "completed"
    },
    "tags": []
   },
   "outputs": [
    {
     "name": "stderr",
     "output_type": "stream",
     "text": [
      "\u001b[34m\u001b[1mwandb\u001b[0m: Currently logged in as: \u001b[33menigma0160\u001b[0m (use `wandb login --relogin` to force relogin)\n",
      "\u001b[34m\u001b[1mwandb\u001b[0m: wandb version 0.10.26 is available!  To upgrade, please run:\n",
      "\u001b[34m\u001b[1mwandb\u001b[0m:  $ pip install wandb --upgrade\n"
     ]
    },
    {
     "data": {
      "text/html": [
       "\n",
       "                Tracking run with wandb version 0.10.23<br/>\n",
       "                Syncing run <strong style=\"color:#cdcd00\">winter-durian-3</strong> to <a href=\"https://wandb.ai\" target=\"_blank\">Weights & Biases</a> <a href=\"https://docs.wandb.com/integrations/jupyter.html\" target=\"_blank\">(Documentation)</a>.<br/>\n",
       "                Project page: <a href=\"https://wandb.ai/ml-major-project-g3/major-project\" target=\"_blank\">https://wandb.ai/ml-major-project-g3/major-project</a><br/>\n",
       "                Run page: <a href=\"https://wandb.ai/ml-major-project-g3/major-project/runs/24ceg1zb\" target=\"_blank\">https://wandb.ai/ml-major-project-g3/major-project/runs/24ceg1zb</a><br/>\n",
       "                Run data is saved locally in <code>/kaggle/working/wandb/run-20210416_182220-24ceg1zb</code><br/><br/>\n",
       "            "
      ],
      "text/plain": [
       "<IPython.core.display.HTML object>"
      ]
     },
     "metadata": {},
     "output_type": "display_data"
    },
    {
     "data": {
      "text/html": [
       "<br/>Waiting for W&B process to finish, PID 50<br/>Program ended successfully."
      ],
      "text/plain": [
       "<IPython.core.display.HTML object>"
      ]
     },
     "metadata": {},
     "output_type": "display_data"
    },
    {
     "data": {
      "application/vnd.jupyter.widget-view+json": {
       "model_id": "48560ee9cb5341f2b08668fc042b681c",
       "version_major": 2,
       "version_minor": 0
      },
      "text/plain": [
       "VBox(children=(Label(value=' 48.12MB of 48.12MB uploaded (0.00MB deduped)\\r'), FloatProgress(value=1.0, max=1.…"
      ]
     },
     "metadata": {},
     "output_type": "display_data"
    },
    {
     "data": {
      "text/html": [
       "Find user logs for this run at: <code>/kaggle/working/wandb/run-20210416_182220-24ceg1zb/logs/debug.log</code>"
      ],
      "text/plain": [
       "<IPython.core.display.HTML object>"
      ]
     },
     "metadata": {},
     "output_type": "display_data"
    },
    {
     "data": {
      "text/html": [
       "Find internal logs for this run at: <code>/kaggle/working/wandb/run-20210416_182220-24ceg1zb/logs/debug-internal.log</code>"
      ],
      "text/plain": [
       "<IPython.core.display.HTML object>"
      ]
     },
     "metadata": {},
     "output_type": "display_data"
    },
    {
     "data": {
      "text/html": [
       "Synced 4 W&B file(s), 0 media file(s), 6 artifact file(s) and 1 other file(s)"
      ],
      "text/plain": [
       "<IPython.core.display.HTML object>"
      ]
     },
     "metadata": {},
     "output_type": "display_data"
    },
    {
     "data": {
      "text/html": [
       "\n",
       "                    <br/>Synced <strong style=\"color:#cdcd00\">winter-durian-3</strong>: <a href=\"https://wandb.ai/ml-major-project-g3/major-project/runs/24ceg1zb\" target=\"_blank\">https://wandb.ai/ml-major-project-g3/major-project/runs/24ceg1zb</a><br/>\n",
       "                "
      ],
      "text/plain": [
       "<IPython.core.display.HTML object>"
      ]
     },
     "metadata": {},
     "output_type": "display_data"
    }
   ],
   "source": [
    "# starting a run on project, entity(team)\n",
    "run = wandb.init(entity='ml-major-project-g3', project='major-project',\n",
    "                 job_type=\"upload-data\", save_code=True)\n",
    "raw_data = wandb.Artifact(\n",
    "            \"covid19-raw-dataset\", type=\"dataset\",\n",
    "            description=\"Raw COVID-19 data from OWID and Oxford University.\")\n",
    "\n",
    "# adding all files to the artifact folder\n",
    "raw_data.add_file('owid-covid-data.csv')\n",
    "raw_data.add_file('owid-covid-codebook.csv')\n",
    "raw_data.add_file('OxCGRT_latest.csv')\n",
    "raw_data.add_file('codebook.md')\n",
    "run.log_artifact(raw_data)\n",
    "# finish all uploads\n",
    "wandb.finish()"
   ]
  },
  {
   "cell_type": "code",
   "execution_count": null,
   "id": "prescription-wesley",
   "metadata": {
    "papermill": {
     "duration": 0.010204,
     "end_time": "2021-04-16T18:22:35.836759",
     "exception": false,
     "start_time": "2021-04-16T18:22:35.826555",
     "status": "completed"
    },
    "tags": []
   },
   "outputs": [],
   "source": []
  }
 ],
 "metadata": {
  "kernelspec": {
   "display_name": "Python 3",
   "language": "python",
   "name": "python3"
  },
  "language_info": {
   "codemirror_mode": {
    "name": "ipython",
    "version": 3
   },
   "file_extension": ".py",
   "mimetype": "text/x-python",
   "name": "python",
   "nbconvert_exporter": "python",
   "pygments_lexer": "ipython3",
   "version": "3.7.9"
  },
  "papermill": {
   "default_parameters": {},
   "duration": 31.868989,
   "end_time": "2021-04-16T18:22:36.558584",
   "environment_variables": {},
   "exception": null,
   "input_path": "__notebook__.ipynb",
   "output_path": "__notebook__.ipynb",
   "parameters": {},
   "start_time": "2021-04-16T18:22:04.689595",
   "version": "2.3.2"
  },
  "widgets": {
   "application/vnd.jupyter.widget-state+json": {
    "state": {
     "01434ba868b7411ba4af3f5f08d4cd78": {
      "model_module": "@jupyter-widgets/controls",
      "model_module_version": "1.5.0",
      "model_name": "ProgressStyleModel",
      "state": {
       "_model_module": "@jupyter-widgets/controls",
       "_model_module_version": "1.5.0",
       "_model_name": "ProgressStyleModel",
       "_view_count": null,
       "_view_module": "@jupyter-widgets/base",
       "_view_module_version": "1.2.0",
       "_view_name": "StyleView",
       "bar_color": null,
       "description_width": ""
      }
     },
     "13719c51256c40d7b4e61774342afdc7": {
      "model_module": "@jupyter-widgets/controls",
      "model_module_version": "1.5.0",
      "model_name": "FloatProgressModel",
      "state": {
       "_dom_classes": [],
       "_model_module": "@jupyter-widgets/controls",
       "_model_module_version": "1.5.0",
       "_model_name": "FloatProgressModel",
       "_view_count": null,
       "_view_module": "@jupyter-widgets/controls",
       "_view_module_version": "1.5.0",
       "_view_name": "ProgressView",
       "bar_style": "",
       "description": "",
       "description_tooltip": null,
       "layout": "IPY_MODEL_bdcfddb2cc3b425b82374fd347a50ea0",
       "max": 1.0,
       "min": 0.0,
       "orientation": "horizontal",
       "style": "IPY_MODEL_01434ba868b7411ba4af3f5f08d4cd78",
       "value": 1.0
      }
     },
     "227d344d471740f2abd1face16c70662": {
      "model_module": "@jupyter-widgets/base",
      "model_module_version": "1.2.0",
      "model_name": "LayoutModel",
      "state": {
       "_model_module": "@jupyter-widgets/base",
       "_model_module_version": "1.2.0",
       "_model_name": "LayoutModel",
       "_view_count": null,
       "_view_module": "@jupyter-widgets/base",
       "_view_module_version": "1.2.0",
       "_view_name": "LayoutView",
       "align_content": null,
       "align_items": null,
       "align_self": null,
       "border": null,
       "bottom": null,
       "display": null,
       "flex": null,
       "flex_flow": null,
       "grid_area": null,
       "grid_auto_columns": null,
       "grid_auto_flow": null,
       "grid_auto_rows": null,
       "grid_column": null,
       "grid_gap": null,
       "grid_row": null,
       "grid_template_areas": null,
       "grid_template_columns": null,
       "grid_template_rows": null,
       "height": null,
       "justify_content": null,
       "justify_items": null,
       "left": null,
       "margin": null,
       "max_height": null,
       "max_width": null,
       "min_height": null,
       "min_width": null,
       "object_fit": null,
       "object_position": null,
       "order": null,
       "overflow": null,
       "overflow_x": null,
       "overflow_y": null,
       "padding": null,
       "right": null,
       "top": null,
       "visibility": null,
       "width": null
      }
     },
     "48560ee9cb5341f2b08668fc042b681c": {
      "model_module": "@jupyter-widgets/controls",
      "model_module_version": "1.5.0",
      "model_name": "VBoxModel",
      "state": {
       "_dom_classes": [],
       "_model_module": "@jupyter-widgets/controls",
       "_model_module_version": "1.5.0",
       "_model_name": "VBoxModel",
       "_view_count": null,
       "_view_module": "@jupyter-widgets/controls",
       "_view_module_version": "1.5.0",
       "_view_name": "VBoxView",
       "box_style": "",
       "children": [
        "IPY_MODEL_b19dcddca75e4274a584c3a00e359a7e",
        "IPY_MODEL_13719c51256c40d7b4e61774342afdc7"
       ],
       "layout": "IPY_MODEL_227d344d471740f2abd1face16c70662"
      }
     },
     "7b121cbd17e648ed94fed73a2dbda2d3": {
      "model_module": "@jupyter-widgets/controls",
      "model_module_version": "1.5.0",
      "model_name": "DescriptionStyleModel",
      "state": {
       "_model_module": "@jupyter-widgets/controls",
       "_model_module_version": "1.5.0",
       "_model_name": "DescriptionStyleModel",
       "_view_count": null,
       "_view_module": "@jupyter-widgets/base",
       "_view_module_version": "1.2.0",
       "_view_name": "StyleView",
       "description_width": ""
      }
     },
     "9f2b12f270124f9f8fe15c27ea756e0a": {
      "model_module": "@jupyter-widgets/base",
      "model_module_version": "1.2.0",
      "model_name": "LayoutModel",
      "state": {
       "_model_module": "@jupyter-widgets/base",
       "_model_module_version": "1.2.0",
       "_model_name": "LayoutModel",
       "_view_count": null,
       "_view_module": "@jupyter-widgets/base",
       "_view_module_version": "1.2.0",
       "_view_name": "LayoutView",
       "align_content": null,
       "align_items": null,
       "align_self": null,
       "border": null,
       "bottom": null,
       "display": null,
       "flex": null,
       "flex_flow": null,
       "grid_area": null,
       "grid_auto_columns": null,
       "grid_auto_flow": null,
       "grid_auto_rows": null,
       "grid_column": null,
       "grid_gap": null,
       "grid_row": null,
       "grid_template_areas": null,
       "grid_template_columns": null,
       "grid_template_rows": null,
       "height": null,
       "justify_content": null,
       "justify_items": null,
       "left": null,
       "margin": null,
       "max_height": null,
       "max_width": null,
       "min_height": null,
       "min_width": null,
       "object_fit": null,
       "object_position": null,
       "order": null,
       "overflow": null,
       "overflow_x": null,
       "overflow_y": null,
       "padding": null,
       "right": null,
       "top": null,
       "visibility": null,
       "width": null
      }
     },
     "b19dcddca75e4274a584c3a00e359a7e": {
      "model_module": "@jupyter-widgets/controls",
      "model_module_version": "1.5.0",
      "model_name": "LabelModel",
      "state": {
       "_dom_classes": [],
       "_model_module": "@jupyter-widgets/controls",
       "_model_module_version": "1.5.0",
       "_model_name": "LabelModel",
       "_view_count": null,
       "_view_module": "@jupyter-widgets/controls",
       "_view_module_version": "1.5.0",
       "_view_name": "LabelView",
       "description": "",
       "description_tooltip": null,
       "layout": "IPY_MODEL_9f2b12f270124f9f8fe15c27ea756e0a",
       "placeholder": "​",
       "style": "IPY_MODEL_7b121cbd17e648ed94fed73a2dbda2d3",
       "value": " 48.14MB of 48.14MB uploaded (0.00MB deduped)\r"
      }
     },
     "bdcfddb2cc3b425b82374fd347a50ea0": {
      "model_module": "@jupyter-widgets/base",
      "model_module_version": "1.2.0",
      "model_name": "LayoutModel",
      "state": {
       "_model_module": "@jupyter-widgets/base",
       "_model_module_version": "1.2.0",
       "_model_name": "LayoutModel",
       "_view_count": null,
       "_view_module": "@jupyter-widgets/base",
       "_view_module_version": "1.2.0",
       "_view_name": "LayoutView",
       "align_content": null,
       "align_items": null,
       "align_self": null,
       "border": null,
       "bottom": null,
       "display": null,
       "flex": null,
       "flex_flow": null,
       "grid_area": null,
       "grid_auto_columns": null,
       "grid_auto_flow": null,
       "grid_auto_rows": null,
       "grid_column": null,
       "grid_gap": null,
       "grid_row": null,
       "grid_template_areas": null,
       "grid_template_columns": null,
       "grid_template_rows": null,
       "height": null,
       "justify_content": null,
       "justify_items": null,
       "left": null,
       "margin": null,
       "max_height": null,
       "max_width": null,
       "min_height": null,
       "min_width": null,
       "object_fit": null,
       "object_position": null,
       "order": null,
       "overflow": null,
       "overflow_x": null,
       "overflow_y": null,
       "padding": null,
       "right": null,
       "top": null,
       "visibility": null,
       "width": null
      }
     }
    },
    "version_major": 2,
    "version_minor": 0
   }
  }
 },
 "nbformat": 4,
 "nbformat_minor": 5
}
